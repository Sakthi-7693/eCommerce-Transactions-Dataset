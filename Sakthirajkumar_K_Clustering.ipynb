{
 "cells": [
  {
   "cell_type": "markdown",
   "metadata": {},
   "source": [
    "Task 3 Clustering algorithm"
   ]
  },
  {
   "cell_type": "code",
   "execution_count": 1,
   "metadata": {},
   "outputs": [],
   "source": [
    "import pandas as pd\n",
    "import numpy as np\n",
    "import seaborn as sns\n",
    "import matplotlib.pyplot as plt\n",
    "from sklearn.preprocessing import StandardScaler\n",
    "from sklearn.cluster import KMeans\n",
    "from sklearn.metrics import davies_bouldin_score\n",
    "from sklearn.metrics import silhouette_score"
   ]
  },
  {
   "cell_type": "code",
   "execution_count": 2,
   "metadata": {},
   "outputs": [
    {
     "data": {
      "text/html": [
       "<div>\n",
       "<style scoped>\n",
       "    .dataframe tbody tr th:only-of-type {\n",
       "        vertical-align: middle;\n",
       "    }\n",
       "\n",
       "    .dataframe tbody tr th {\n",
       "        vertical-align: top;\n",
       "    }\n",
       "\n",
       "    .dataframe thead th {\n",
       "        text-align: right;\n",
       "    }\n",
       "</style>\n",
       "<table border=\"1\" class=\"dataframe\">\n",
       "  <thead>\n",
       "    <tr style=\"text-align: right;\">\n",
       "      <th></th>\n",
       "      <th>CustomerID</th>\n",
       "      <th>CustomerName</th>\n",
       "      <th>Region</th>\n",
       "      <th>SignupDate</th>\n",
       "      <th>TransactionID</th>\n",
       "      <th>ProductID</th>\n",
       "      <th>TransactionDate</th>\n",
       "      <th>Quantity</th>\n",
       "      <th>TotalValue</th>\n",
       "      <th>Price</th>\n",
       "    </tr>\n",
       "  </thead>\n",
       "  <tbody>\n",
       "    <tr>\n",
       "      <th>0</th>\n",
       "      <td>C0001</td>\n",
       "      <td>Lawrence Carroll</td>\n",
       "      <td>South America</td>\n",
       "      <td>2022-07-10</td>\n",
       "      <td>T00015</td>\n",
       "      <td>P054</td>\n",
       "      <td>2024-01-19 03:12:55</td>\n",
       "      <td>2</td>\n",
       "      <td>114.60</td>\n",
       "      <td>57.30</td>\n",
       "    </tr>\n",
       "    <tr>\n",
       "      <th>1</th>\n",
       "      <td>C0001</td>\n",
       "      <td>Lawrence Carroll</td>\n",
       "      <td>South America</td>\n",
       "      <td>2022-07-10</td>\n",
       "      <td>T00932</td>\n",
       "      <td>P022</td>\n",
       "      <td>2024-09-17 09:01:18</td>\n",
       "      <td>3</td>\n",
       "      <td>412.62</td>\n",
       "      <td>137.54</td>\n",
       "    </tr>\n",
       "    <tr>\n",
       "      <th>2</th>\n",
       "      <td>C0001</td>\n",
       "      <td>Lawrence Carroll</td>\n",
       "      <td>South America</td>\n",
       "      <td>2022-07-10</td>\n",
       "      <td>T00085</td>\n",
       "      <td>P096</td>\n",
       "      <td>2024-04-08 00:01:00</td>\n",
       "      <td>2</td>\n",
       "      <td>614.94</td>\n",
       "      <td>307.47</td>\n",
       "    </tr>\n",
       "    <tr>\n",
       "      <th>3</th>\n",
       "      <td>C0001</td>\n",
       "      <td>Lawrence Carroll</td>\n",
       "      <td>South America</td>\n",
       "      <td>2022-07-10</td>\n",
       "      <td>T00445</td>\n",
       "      <td>P083</td>\n",
       "      <td>2024-05-07 03:11:44</td>\n",
       "      <td>2</td>\n",
       "      <td>911.44</td>\n",
       "      <td>455.72</td>\n",
       "    </tr>\n",
       "    <tr>\n",
       "      <th>4</th>\n",
       "      <td>C0001</td>\n",
       "      <td>Lawrence Carroll</td>\n",
       "      <td>South America</td>\n",
       "      <td>2022-07-10</td>\n",
       "      <td>T00436</td>\n",
       "      <td>P029</td>\n",
       "      <td>2024-11-02 17:04:16</td>\n",
       "      <td>3</td>\n",
       "      <td>1300.92</td>\n",
       "      <td>433.64</td>\n",
       "    </tr>\n",
       "  </tbody>\n",
       "</table>\n",
       "</div>"
      ],
      "text/plain": [
       "  CustomerID      CustomerName         Region  SignupDate TransactionID  \\\n",
       "0      C0001  Lawrence Carroll  South America  2022-07-10        T00015   \n",
       "1      C0001  Lawrence Carroll  South America  2022-07-10        T00932   \n",
       "2      C0001  Lawrence Carroll  South America  2022-07-10        T00085   \n",
       "3      C0001  Lawrence Carroll  South America  2022-07-10        T00445   \n",
       "4      C0001  Lawrence Carroll  South America  2022-07-10        T00436   \n",
       "\n",
       "  ProductID      TransactionDate  Quantity  TotalValue   Price  \n",
       "0      P054  2024-01-19 03:12:55         2      114.60   57.30  \n",
       "1      P022  2024-09-17 09:01:18         3      412.62  137.54  \n",
       "2      P096  2024-04-08 00:01:00         2      614.94  307.47  \n",
       "3      P083  2024-05-07 03:11:44         2      911.44  455.72  \n",
       "4      P029  2024-11-02 17:04:16         3     1300.92  433.64  "
      ]
     },
     "execution_count": 2,
     "metadata": {},
     "output_type": "execute_result"
    }
   ],
   "source": [
    "df_customers= pd.read_csv(r'C:\\Users\\sakth\\OneDrive\\文档\\eCommerce_Dataset_Assignment\\Datasets\\Customers.csv')\n",
    "df_transactions = pd.read_csv(r'C:\\Users\\sakth\\OneDrive\\文档\\eCommerce_Dataset_Assignment\\Datasets\\Transactions.csv')\n",
    "data = pd.merge(df_customers, df_transactions, on='CustomerID')\n",
    "\n",
    "data.head()"
   ]
  },
  {
   "cell_type": "markdown",
   "metadata": {},
   "source": [
    "Calculating total_spent , average transcation and transaction count"
   ]
  },
  {
   "cell_type": "code",
   "execution_count": 6,
   "metadata": {},
   "outputs": [
    {
     "name": "stdout",
     "output_type": "stream",
     "text": [
      "    CustomerID  total_spent  avg_transaction_value  transaction_count\n",
      "0        C0001      3354.52             670.904000                  5\n",
      "1        C0002      1862.74             465.685000                  4\n",
      "2        C0003      2725.38             681.345000                  4\n",
      "3        C0004      5354.88             669.360000                  8\n",
      "4        C0005      2034.24             678.080000                  3\n",
      "..         ...          ...                    ...                ...\n",
      "194      C0196      4982.88            1245.720000                  4\n",
      "195      C0197      1928.65             642.883333                  3\n",
      "196      C0198       931.83             465.915000                  2\n",
      "197      C0199      1979.28             494.820000                  4\n",
      "198      C0200      4758.60             951.720000                  5\n",
      "\n",
      "[199 rows x 4 columns]\n"
     ]
    }
   ],
   "source": [
    "customer_data = (\n",
    "    data.groupby('CustomerID')\n",
    "    .agg(total_spent=('TotalValue', 'sum'),avg_transaction_value=('TotalValue', 'mean'),transaction_count=('TransactionID', 'count'))\n",
    "    .reset_index()\n",
    ")\n",
    "\n",
    "print(customer_data)"
   ]
  },
  {
   "cell_type": "code",
   "execution_count": 10,
   "metadata": {},
   "outputs": [
    {
     "data": {
      "text/plain": [
       "array([[-6.17014282e-02, -7.02634115e-02, -1.14581896e-02],\n",
       "       [-8.77743532e-01, -9.34932971e-01, -4.67494136e-01],\n",
       "       [-4.05857221e-01, -2.62713110e-02, -4.67494136e-01],\n",
       "       [ 1.03254704e+00, -7.67688998e-02,  1.35664965e+00],\n",
       "       [-7.83928612e-01, -4.00280592e-02, -9.23530083e-01],\n",
       "       [ 4.15879421e-01,  1.55606020e+00, -4.67494136e-01],\n",
       "       [-4.85482293e-01,  7.26220709e-01, -9.23530083e-01],\n",
       "       [ 4.39970436e-01, -1.09724996e+00,  2.26872154e+00],\n",
       "       [-1.40630171e+00, -1.63794564e+00, -9.23530083e-01],\n",
       "       [-9.57166204e-01, -1.08786883e+00, -4.67494136e-01],\n",
       "       [ 1.43695808e-01,  2.46146011e-01, -1.14581896e-02],\n",
       "       [ 9.64923716e-01,  2.51719736e-01,  9.00613703e-01],\n",
       "       [ 1.38575064e+00,  7.14772302e-01,  9.00613703e-01],\n",
       "       [-1.72239508e+00, -1.55440798e+00, -1.83560198e+00],\n",
       "       [-1.26353893e+00, -4.58587130e-01, -1.37956603e+00],\n",
       "       [ 2.22697270e-01,  3.67845832e-01, -1.14581896e-02],\n",
       "       [ 7.03751732e-01, -3.93332111e-01,  1.35664965e+00],\n",
       "       [ 7.19084865e-01,  1.13251879e+00, -1.14581896e-02],\n",
       "       [-7.01010446e-01, -1.36209440e+00,  4.44577757e-01],\n",
       "       [-1.39212827e+00,  9.89431754e-01, -1.83560198e+00],\n",
       "       [ 1.06812560e+00, -4.25139647e-02,  1.35664965e+00],\n",
       "       [ 6.49732938e-01,  3.71894908e-01,  4.44577757e-01],\n",
       "       [ 9.25204175e-01,  7.25525498e-01,  4.44577757e-01],\n",
       "       [ 8.73630943e-02, -7.13895042e-01,  9.00613703e-01],\n",
       "       [-1.02704328e+00, -1.22242373e+00, -4.67494136e-01],\n",
       "       [ 4.47114950e-02,  8.41341307e-01, -4.67494136e-01],\n",
       "       [-4.94716088e-01, -1.97377450e-01, -4.67494136e-01],\n",
       "       [ 1.83377022e+00,  6.94646549e-01,  1.35664965e+00],\n",
       "       [-9.19793403e-01, -1.01590397e+00, -4.67494136e-01],\n",
       "       [-5.01969649e-01, -7.48485845e-01, -1.14581896e-02],\n",
       "       [-7.99715776e-01, -7.84683157e-01, -4.67494136e-01],\n",
       "       [-1.52856197e+00, -1.95184388e+00, -9.23530083e-01],\n",
       "       [-1.82415282e+00, -2.33818449e+00, -1.83560198e+00],\n",
       "       [-2.15590718e-01, -7.38946709e-01,  4.44577757e-01],\n",
       "       [-4.81220962e-01, -1.71391311e-01, -4.67494136e-01],\n",
       "       [-8.69417800e-01, -2.59518065e-01, -9.23530083e-01],\n",
       "       [ 4.29664470e-01,  6.86673745e-01, -1.14581896e-02],\n",
       "       [-4.21463867e-01, -6.24468655e-01, -1.14581896e-02],\n",
       "       [ 4.22460141e-01,  8.01380844e-02,  4.44577757e-01],\n",
       "       [ 2.74653778e-01,  2.67783910e+00, -9.23530083e-01],\n",
       "       [ 1.46737783e+00,  8.04589933e-01,  9.00613703e-01],\n",
       "       [-5.82486372e-01,  4.77166686e-01, -9.23530083e-01],\n",
       "       [-1.27784912e+00, -1.30814884e+00, -9.23530083e-01],\n",
       "       [-1.29756904e-01,  1.63953115e+00, -9.23530083e-01],\n",
       "       [ 1.39736947e+00,  7.27556959e-01,  9.00613703e-01],\n",
       "       [ 1.18185773e+00,  4.90420836e-01,  9.00613703e-01],\n",
       "       [-3.26450961e-01, -1.16923107e+00,  9.00613703e-01],\n",
       "       [ 2.09853105e-01,  3.48059709e-01, -1.14581896e-02],\n",
       "       [-6.30083085e-01, -1.67754457e+00,  1.35664965e+00],\n",
       "       [-2.17981221e-01,  1.41301881e+00, -9.23530083e-01],\n",
       "       [ 1.22110135e+00,  5.33602158e-01,  9.00613703e-01],\n",
       "       [-5.35704728e-01, -2.76304950e-01, -4.67494136e-01],\n",
       "       [ 1.01153031e+00,  8.36344918e-01,  4.44577757e-01],\n",
       "       [ 2.50159022e+00,  1.33762179e+00,  1.35664965e+00],\n",
       "       [-3.33485712e-01, -4.88940458e-01, -1.14581896e-02],\n",
       "       [-1.55560110e-01, -2.14850417e-01, -1.14581896e-02],\n",
       "       [ 5.84817389e-01,  2.88560895e-01,  4.44577757e-01],\n",
       "       [-1.67990212e+00, -1.22711113e+00, -1.83560198e+00],\n",
       "       [ 1.97255613e+00,  8.28269237e-01,  1.35664965e+00],\n",
       "       [-1.85165727e+00, -2.55003420e+00, -1.83560198e+00],\n",
       "       [-7.27026992e-01,  1.06064534e-01, -9.23530083e-01],\n",
       "       [-9.99839684e-01, -5.94370940e-01, -9.23530083e-01],\n",
       "       [-1.14281581e+00,  6.34039835e-03, -1.37956603e+00],\n",
       "       [ 3.13147981e-01,  5.07182941e-01, -1.14581896e-02],\n",
       "       [ 2.29553108e+00,  3.31972951e-01,  2.26872154e+00],\n",
       "       [ 1.81593753e-01,  2.43891128e+00, -9.23530083e-01],\n",
       "       [ 3.41084587e-01, -2.43261251e-02,  4.44577757e-01],\n",
       "       [ 1.35832277e+00,  2.36887066e-01,  1.35664965e+00],\n",
       "       [-3.21992700e-01, -4.71235755e-01, -1.14581896e-02],\n",
       "       [-1.86986740e-01,  3.95184472e-01, -4.67494136e-01],\n",
       "       [-1.13042021e+00, -9.29631110e-01, -9.23530083e-01],\n",
       "       [-2.55857285e-01, -3.69355763e-01, -1.14581896e-02],\n",
       "       [-7.69541835e-01, -3.09059340e-03, -9.23530083e-01],\n",
       "       [-2.25426241e-01,  1.39390403e+00, -9.23530083e-01],\n",
       "       [ 1.30282700e+00, -1.58822507e-01,  1.81268560e+00],\n",
       "       [-6.20466372e-01, -9.31027150e-01, -1.14581896e-02],\n",
       "       [-1.43868564e+00, -1.72109005e+00, -9.23530083e-01],\n",
       "       [-1.35213522e+00,  1.29747337e+00, -1.83560198e+00],\n",
       "       [ 4.29002569e-01,  1.58133007e+00, -4.67494136e-01],\n",
       "       [-1.34557091e+00,  1.34803416e+00, -1.83560198e+00],\n",
       "       [ 4.11175356e-02, -4.09402718e-01,  4.44577757e-01],\n",
       "       [ 2.24586661e+00,  1.66119204e+00,  9.00613703e-01],\n",
       "       [-1.54508215e+00, -1.99425876e+00, -9.23530083e-01],\n",
       "       [ 5.32685833e-01, -8.17924536e-01,  1.81268560e+00],\n",
       "       [-4.75356845e-01,  7.52217382e-01, -9.23530083e-01],\n",
       "       [-3.89829366e-01, -5.75736480e-01, -1.14581896e-02],\n",
       "       [ 1.71597369e+00,  1.07812983e+00,  9.00613703e-01],\n",
       "       [-7.28602426e-01, -1.09760810e+00, -1.14581896e-02],\n",
       "       [-4.98392101e-01,  2.48813783e+00, -1.37956603e+00],\n",
       "       [ 3.66969847e-01, -4.06232636e-01,  9.00613703e-01],\n",
       "       [-1.80329437e-01, -6.93680758e-01,  4.44577757e-01],\n",
       "       [-2.46907943e-01,  2.79800536e-01, -4.67494136e-01],\n",
       "       [ 9.99785669e-01, -4.18171269e-01,  1.81268560e+00],\n",
       "       [-1.25834765e+00, -1.66782215e+00, -4.67494136e-01],\n",
       "       [-1.19418153e+00, -1.91478692e-01, -1.37956603e+00],\n",
       "       [ 1.42533343e+00,  2.22047744e+00, -1.14581896e-02],\n",
       "       [-1.82147239e+00, -2.31753883e+00, -1.83560198e+00],\n",
       "       [-1.69191992e-01, -1.23379991e+00,  1.35664965e+00],\n",
       "       [ 1.77696159e+00,  6.39951362e-01,  1.35664965e+00],\n",
       "       [ 8.40305775e-01,  6.16538907e-01,  4.44577757e-01],\n",
       "       [ 1.13982427e+00,  2.65173135e-02,  1.35664965e+00],\n",
       "       [ 1.45784864e+00,  3.32710296e-01,  1.35664965e+00],\n",
       "       [-5.49632005e-01, -8.21908539e-01, -1.14581896e-02],\n",
       "       [ 1.70222693e+00,  5.67997038e-01,  1.35664965e+00],\n",
       "       [ 7.33088724e-01,  4.78901202e-01,  4.44577757e-01],\n",
       "       [-2.88837469e-01, -4.20160930e-01, -1.14581896e-02],\n",
       "       [ 8.56673144e-02,  1.56754534e-01, -1.14581896e-02],\n",
       "       [ 7.55566013e-01,  2.13551472e-02,  9.00613703e-01],\n",
       "       [ 1.10495684e+00, -7.95233892e-01,  2.72475749e+00],\n",
       "       [-1.38123699e+00,  1.07332053e+00, -1.83560198e+00],\n",
       "       [-8.17417530e-01, -1.23442560e+00, -1.14581896e-02],\n",
       "       [-8.24807848e-01, -1.44983832e-01, -9.23530083e-01],\n",
       "       [ 7.35632394e-01, -3.62637498e-01,  1.35664965e+00],\n",
       "       [ 1.26533386e+00,  1.97400201e+00, -1.14581896e-02],\n",
       "       [-1.80592009e-01,  1.50901409e+00, -9.23530083e-01],\n",
       "       [-3.87641263e-01, -9.59813093e-01,  4.44577757e-01],\n",
       "       [ 3.06857185e-01,  1.34612759e+00, -4.67494136e-01],\n",
       "       [-1.78026101e-02, -4.85040255e-01,  4.44577757e-01],\n",
       "       [-1.24486894e+00, -1.89290404e+00, -1.14581896e-02],\n",
       "       [-5.45545722e-01,  5.72010301e-01, -9.23530083e-01],\n",
       "       [-1.36362276e+00, -1.87053932e+00, -4.67494136e-01],\n",
       "       [ 8.78105256e-01,  1.56189939e-01,  9.00613703e-01],\n",
       "       [-1.13084142e+00,  5.24560520e-02, -1.37956603e+00],\n",
       "       [ 4.35988088e-01, -3.30289126e-01,  9.00613703e-01],\n",
       "       [-2.69877555e-01,  2.35570379e-01, -4.67494136e-01],\n",
       "       [ 6.00774131e-01,  3.09045038e-01,  4.44577757e-01],\n",
       "       [-1.28241643e-01, -6.26814114e-01,  4.44577757e-01],\n",
       "       [-1.47375546e+00, -1.26817071e+00, -1.37956603e+00],\n",
       "       [-6.16883353e-01,  3.88853840e-01, -9.23530083e-01],\n",
       "       [-1.56775090e+00, -3.63280042e-01, -1.83560198e+00],\n",
       "       [-8.33390682e-01, -1.67019909e-01, -9.23530083e-01],\n",
       "       [-8.84023388e-01, -2.97017318e-01, -9.23530083e-01],\n",
       "       [-3.18907475e-01,  1.41158638e-01, -4.67494136e-01],\n",
       "       [-4.31075109e-01, -6.39274539e-01, -1.14581896e-02],\n",
       "       [-1.81467250e-01,  4.05812771e-01, -4.67494136e-01],\n",
       "       [ 4.54948001e-01,  1.21843714e-01,  4.44577757e-01],\n",
       "       [-7.37195843e-02, -8.87770874e-02, -1.14581896e-02],\n",
       "       [ 1.17224101e+00,  1.83059476e+00, -1.14581896e-02],\n",
       "       [ 1.29276209e-01, -9.46435550e-01,  1.35664965e+00],\n",
       "       [-8.63849077e-01,  1.08069398e+00, -1.37956603e+00],\n",
       "       [ 3.94217164e+00,  1.60027772e+00,  2.26872154e+00],\n",
       "       [-6.71897735e-01, -5.38557446e-01, -4.67494136e-01],\n",
       "       [ 1.40985807e+00,  7.41298659e-01,  9.00613703e-01],\n",
       "       [-1.18301673e+00, -1.48480953e-01, -1.37956603e+00],\n",
       "       [ 1.26032310e+00,  1.42533259e-01,  1.35664965e+00],\n",
       "       [-4.90416465e-01, -1.89098121e-01, -4.67494136e-01],\n",
       "       [-2.83837653e-01, -1.51672147e+00,  1.81268560e+00],\n",
       "       [ 1.08884146e+00,  1.70211979e+00, -1.14581896e-02],\n",
       "       [ 5.12817857e-01,  8.14769506e-01, -1.14581896e-02],\n",
       "       [-1.57924938e+00, -4.51845692e-01, -1.83560198e+00],\n",
       "       [-1.77419842e+00, -1.95341688e+00, -1.83560198e+00],\n",
       "       [-4.45576405e-02, -4.38538257e-02, -1.14581896e-02],\n",
       "       [ 6.98812090e-01,  4.34899270e-01,  4.44577757e-01],\n",
       "       [ 1.29259798e-01, -2.96251884e-01,  4.44577757e-01],\n",
       "       [ 1.04510128e+00,  3.39942295e-01,  9.00613703e-01],\n",
       "       [ 2.27953058e+00,  2.72216215e-02,  2.72475749e+00],\n",
       "       [-8.70435268e-01, -1.31609812e+00, -1.14581896e-02],\n",
       "       [ 1.36321901e-01,  1.01774580e+00, -4.67494136e-01],\n",
       "       [-7.63048639e-01,  1.35804225e-02, -9.23530083e-01],\n",
       "       [-2.95604177e-01, -4.30584880e-01, -1.14581896e-02],\n",
       "       [-1.78048339e-01, -1.24232677e+00,  1.35664965e+00],\n",
       "       [ 7.30238720e-01, -3.67830513e-01,  1.35664965e+00],\n",
       "       [ 1.26251668e+00,  1.15854355e+00,  4.44577757e-01],\n",
       "       [-2.07664314e-01, -2.95115670e-01, -1.14581896e-02],\n",
       "       [ 1.77279325e+00,  2.43383893e-01,  1.81268560e+00],\n",
       "       [-5.80921879e-01, -3.63374843e-01, -4.67494136e-01],\n",
       "       [-6.38321293e-01,  3.33812802e-01, -9.23530083e-01],\n",
       "       [ 8.67864934e-01,  2.42640100e+00, -4.67494136e-01],\n",
       "       [ 5.83132550e-01,  2.86398017e-01,  4.44577757e-01],\n",
       "       [ 8.01078557e-01,  1.25882807e+00, -1.14581896e-02],\n",
       "       [ 9.17928732e-01,  1.43883291e+00, -1.14581896e-02],\n",
       "       [-6.92323677e-01, -1.35094294e+00,  4.44577757e-01],\n",
       "       [ 1.28043724e+00,  1.61899095e-01,  1.35664965e+00],\n",
       "       [-3.14739139e-01, -4.60061820e-01, -1.14581896e-02],\n",
       "       [ 1.50060964e+00, -2.80305572e-01,  2.26872154e+00],\n",
       "       [-6.21418196e-01,  3.77210813e-01, -9.23530083e-01],\n",
       "       [-5.23779567e-01, -2.53341924e-01, -4.67494136e-01],\n",
       "       [-4.14910498e-01, -4.37042500e-02, -4.67494136e-01],\n",
       "       [ 1.01481829e-01, -3.31911285e-01,  4.44577757e-01],\n",
       "       [-6.54868465e-02, -5.46253922e-01,  4.44577757e-01],\n",
       "       [ 8.27899231e-01,  1.30014466e+00, -1.14581896e-02],\n",
       "       [ 2.09459246e-01,  3.47452980e-01, -1.14581896e-02],\n",
       "       [-4.05534119e-02, -8.54646650e-01,  9.00613703e-01],\n",
       "       [-2.35190294e-02,  1.91229257e+00, -9.23530083e-01],\n",
       "       [-9.33047837e-01, -4.22885595e-01, -9.23530083e-01],\n",
       "       [ 6.26413229e-01,  9.89760399e-01, -1.14581896e-02],\n",
       "       [ 1.99336499e+00,  8.48303950e-01,  1.35664965e+00],\n",
       "       [-4.50806329e-01, -6.69670001e-01, -1.14581896e-02],\n",
       "       [-2.64921502e-01, -3.83318968e-01, -1.14581896e-02],\n",
       "       [-2.56743467e-01, -3.70720905e-01, -1.14581896e-02],\n",
       "       [-7.62879061e-01, -7.13750583e-01, -4.67494136e-01],\n",
       "       [-2.50551135e-01,  2.72785227e-01, -4.67494136e-01],\n",
       "       [ 2.19825385e-01, -5.68141527e-01,  9.00613703e-01],\n",
       "       [ 3.11233391e-01, -6.26469903e-02,  4.44577757e-01],\n",
       "       [ 8.29053455e-01,  2.35166583e+00, -4.67494136e-01],\n",
       "       [-8.41689063e-01, -1.88325664e-01, -9.23530083e-01],\n",
       "       [-1.38697529e+00, -9.33963889e-01, -1.37956603e+00],\n",
       "       [-8.13993149e-01, -8.12175587e-01, -4.67494136e-01],\n",
       "       [ 7.06366516e-01,  1.11292648e+00, -1.14581896e-02]])"
      ]
     },
     "execution_count": 10,
     "metadata": {},
     "output_type": "execute_result"
    }
   ],
   "source": [
    "# Using StandardScaler\n",
    "scaler = StandardScaler()\n",
    "customer_data_scaled = scaler.fit_transform(customer_data[['total_spent', 'avg_transaction_value', 'transaction_count']])\n",
    "\n",
    "customer_data_scaled"
   ]
  },
  {
   "cell_type": "markdown",
   "metadata": {},
   "source": [
    "Here we are going to using ELBOW Method to find the No-of-Cluster points"
   ]
  },
  {
   "cell_type": "code",
   "execution_count": 11,
   "metadata": {},
   "outputs": [],
   "source": [
    "inertia = []\n",
    "for k in range(2, 11):\n",
    "    kmeans = KMeans(n_clusters=k, random_state=42)\n",
    "    kmeans.fit(customer_data_scaled)\n",
    "    inertia.append(kmeans.inertia_)"
   ]
  },
  {
   "cell_type": "markdown",
   "metadata": {},
   "source": [
    "Ploting the graph to see the points"
   ]
  },
  {
   "cell_type": "code",
   "execution_count": 12,
   "metadata": {},
   "outputs": [
    {
     "data": {
      "image/png": "[encoded data removed]",
      "text/plain": [
       "<Figure size 640x480 with 1 Axes>"
      ]
     },
     "metadata": {},
     "output_type": "display_data"
    }
   ],
   "source": [
    "plt.plot(range(2, 11), inertia, marker='o')\n",
    "plt.xlabel('Number of Clusters')\n",
    "plt.ylabel('Inertia')\n",
    "plt.show()"
   ]
  },
  {
   "cell_type": "markdown",
   "metadata": {},
   "source": [
    "The elbow seems to be at 4 clusters because the drop in inertia slows after that"
   ]
  },
  {
   "cell_type": "code",
   "execution_count": 13,
   "metadata": {},
   "outputs": [
    {
     "data": {
      "text/html": [
       "<div>\n",
       "<style scoped>\n",
       "    .dataframe tbody tr th:only-of-type {\n",
       "        vertical-align: middle;\n",
       "    }\n",
       "\n",
       "    .dataframe tbody tr th {\n",
       "        vertical-align: top;\n",
       "    }\n",
       "\n",
       "    .dataframe thead th {\n",
       "        text-align: right;\n",
       "    }\n",
       "</style>\n",
       "<table border=\"1\" class=\"dataframe\">\n",
       "  <thead>\n",
       "    <tr style=\"text-align: right;\">\n",
       "      <th></th>\n",
       "      <th>CustomerID</th>\n",
       "      <th>total_spent</th>\n",
       "      <th>avg_transaction_value</th>\n",
       "      <th>transaction_count</th>\n",
       "      <th>Cluster</th>\n",
       "    </tr>\n",
       "  </thead>\n",
       "  <tbody>\n",
       "    <tr>\n",
       "      <th>0</th>\n",
       "      <td>C0001</td>\n",
       "      <td>3354.52</td>\n",
       "      <td>670.904</td>\n",
       "      <td>5</td>\n",
       "      <td>3</td>\n",
       "    </tr>\n",
       "    <tr>\n",
       "      <th>1</th>\n",
       "      <td>C0002</td>\n",
       "      <td>1862.74</td>\n",
       "      <td>465.685</td>\n",
       "      <td>4</td>\n",
       "      <td>1</td>\n",
       "    </tr>\n",
       "    <tr>\n",
       "      <th>2</th>\n",
       "      <td>C0003</td>\n",
       "      <td>2725.38</td>\n",
       "      <td>681.345</td>\n",
       "      <td>4</td>\n",
       "      <td>3</td>\n",
       "    </tr>\n",
       "    <tr>\n",
       "      <th>3</th>\n",
       "      <td>C0004</td>\n",
       "      <td>5354.88</td>\n",
       "      <td>669.360</td>\n",
       "      <td>8</td>\n",
       "      <td>0</td>\n",
       "    </tr>\n",
       "    <tr>\n",
       "      <th>4</th>\n",
       "      <td>C0005</td>\n",
       "      <td>2034.24</td>\n",
       "      <td>678.080</td>\n",
       "      <td>3</td>\n",
       "      <td>3</td>\n",
       "    </tr>\n",
       "  </tbody>\n",
       "</table>\n",
       "</div>"
      ],
      "text/plain": [
       "  CustomerID  total_spent  avg_transaction_value  transaction_count  Cluster\n",
       "0      C0001      3354.52                670.904                  5        3\n",
       "1      C0002      1862.74                465.685                  4        1\n",
       "2      C0003      2725.38                681.345                  4        3\n",
       "3      C0004      5354.88                669.360                  8        0\n",
       "4      C0005      2034.24                678.080                  3        3"
      ]
     },
     "execution_count": 13,
     "metadata": {},
     "output_type": "execute_result"
    }
   ],
   "source": [
    "#predicting the model\n",
    "kmeans = KMeans(n_clusters=4, random_state=42)\n",
    "customer_data['Cluster'] = kmeans.fit_predict(customer_data_scaled)\n",
    "\n",
    "customer_data.head()"
   ]
  },
  {
   "cell_type": "markdown",
   "metadata": {},
   "source": [
    "Evaluating the score"
   ]
  },
  {
   "cell_type": "code",
   "execution_count": 16,
   "metadata": {},
   "outputs": [
    {
     "name": "stdout",
     "output_type": "stream",
     "text": [
      "DB Index :  1.060424039992303\n",
      "Silhouette Score:  0.3135106549790538\n"
     ]
    }
   ],
   "source": [
    "db_index = davies_bouldin_score(customer_data_scaled, customer_data['Cluster'])\n",
    "print(\"DB Index : \",db_index)\n",
    "\n",
    "sil_score = silhouette_score(customer_data_scaled, customer_data['Cluster'])\n",
    "print(\"Silhouette Score: \",sil_score)"
   ]
  },
  {
   "cell_type": "markdown",
   "metadata": {},
   "source": [
    "our db score is good but Silhouette Score is moderate\n"
   ]
  },
  {
   "cell_type": "code",
   "execution_count": 17,
   "metadata": {},
   "outputs": [],
   "source": [
    "from sklearn.decomposition import PCA\n",
    "\n",
    "pca = PCA(n_components=2)\n",
    "principal_components = pca.fit_transform(customer_data_scaled)"
   ]
  },
  {
   "cell_type": "code",
   "execution_count": 18,
   "metadata": {},
   "outputs": [],
   "source": [
    "pca_df = pd.DataFrame(principal_components, columns=['PC1', 'PC2'])\n",
    "pca_df['Cluster'] = customer_data['Cluster']"
   ]
  },
  {
   "cell_type": "markdown",
   "metadata": {},
   "source": [
    "plot the clusters"
   ]
  },
  {
   "cell_type": "code",
   "execution_count": 26,
   "metadata": {},
   "outputs": [
    {
     "data": {
      "image/png": "[encoded data removed]",
      "text/plain": [
       "<Figure size 800x600 with 1 Axes>"
      ]
     },
     "metadata": {},
     "output_type": "display_data"
    }
   ],
   "source": [
    "plt.figure(figsize=(8, 6))\n",
    "sns.scatterplot(data=pca_df, x='PC1', y='PC2', hue='Cluster', palette='Set2', s=100, alpha=0.7)\n",
    "plt.title('Customer Segments based on KMeans Clustering')\n",
    "plt.xlabel('Principal Component 1')\n",
    "plt.ylabel('Principal Component 2')\n",
    "plt.legend(title='Cluster')\n",
    "plt.savefig('cluster_plot.png')"
   ]
  },
  {
   "cell_type": "code",
   "execution_count": 21,
   "metadata": {},
   "outputs": [],
   "source": [
    "from fpdf import FPDF"
   ]
  },
  {
   "cell_type": "code",
   "execution_count": 22,
   "metadata": {},
   "outputs": [],
   "source": [
    "class PDF(FPDF):\n",
    "    def header(self):\n",
    "        self.set_font('Arial', 'B', 12)\n",
    "        self.cell(0, 10, 'Clustering Report', 0, 1, 'C')\n",
    "    \n",
    "    def footer(self):\n",
    "        self.set_y(-15)\n",
    "        self.set_font('Arial', 'I', 8)\n",
    "        self.cell(0, 10, f'Page {self.page_no()}', 0, 0, 'C')\n",
    "\n",
    "    def chapter_title(self, title):\n",
    "        self.set_font('Arial', 'B', 12)\n",
    "        self.cell(0, 10, title, 0, 1, 'L')\n",
    "        self.ln(5)\n",
    "    \n",
    "    def chapter_body(self, body):\n",
    "        self.set_font('Arial', '', 12)\n",
    "        self.multi_cell(0, 10, body)\n",
    "        self.ln()\n",
    "        \n",
    "    def add_cluster_plot(self, image_path):\n",
    "        self.image(image_path, x=10, y=None, w=190)"
   ]
  },
  {
   "cell_type": "code",
   "execution_count": 23,
   "metadata": {},
   "outputs": [],
   "source": [
    "pdf = PDF()\n",
    "pdf.add_page()"
   ]
  },
  {
   "cell_type": "code",
   "execution_count": 27,
   "metadata": {},
   "outputs": [],
   "source": [
    "pdf.chapter_title('Number of Clusters Formed')\n",
    "pdf.chapter_body('4 (can be adjusted)')\n",
    "\n",
    "pdf.chapter_title('Davies-Bouldin Index')\n",
    "pdf.chapter_body(f'{db_index}')\n",
    "\n",
    "pdf.chapter_title('Silhouette Score')\n",
    "pdf.chapter_body(f'{sil_score}')\n",
    "\n",
    "pdf.add_cluster_plot('cluster_plot.png')"
   ]
  },
  {
   "cell_type": "code",
   "execution_count": 28,
   "metadata": {},
   "outputs": [
    {
     "name": "stdout",
     "output_type": "stream",
     "text": [
      "PDF report generated successfully.\n"
     ]
    }
   ],
   "source": [
    "pdf.output('Sakthirajkumar_K_Clustering.pdf .pdf')\n",
    "\n",
    "print('PDF report generated successfully.')"
   ]
  }
 ],
 "metadata": {
  "kernelspec": {
   "display_name": "Python 3",
   "language": "python",
   "name": "python3"
  },
  "language_info": {
   "codemirror_mode": {
    "name": "ipython",
    "version": 3
   },
   "file_extension": ".py",
   "mimetype": "text/x-python",
   "name": "python",
   "nbconvert_exporter": "python",
   "pygments_lexer": "ipython3",
   "version": "3.12.7"
  }
 },
 "nbformat": 4,
 "nbformat_minor": 2
}
